{
 "cells": [
  {
   "cell_type": "code",
   "execution_count": 22,
   "metadata": {},
   "outputs": [],
   "source": [
    "import pandas as pd \n",
    "from pyjstat import pyjstat\n",
    "#link to consumer confidence: http://ec.europa.eu/eurostat/wdds/rest/data/v2.1/json/en/ei_bssi_m_r2?indic=BS-CSMCI-BAL&sinceTimePeriod=1980M01&groupedIndicators=1&filterNonGeo=1&precision=1&s_adj=SA\n",
    "#link to economic sentiment: http://ec.europa.eu/eurostat/wdds/rest/data/v2.1/json/en/ei_bssi_m_r2?indic=BS-ESI-I&groupedIndicators=1&filterNonGeo=1&precision=1&s_adj=SA"
   ]
  },
  {
   "cell_type": "code",
   "execution_count": 25,
   "metadata": {},
   "outputs": [
    {
     "name": "stderr",
     "output_type": "stream",
     "text": [
      "C:\\Users\\jalbertoferreira\\Anaconda3\\lib\\site-packages\\pyjstat\\pyjstat.py:250: FutureWarning: by argument to sort_index is deprecated, please use .sort_values(by=...)\n",
      "  dim_label = pd.merge(dim_label, dim_index, on='id').sort_index(by='index')\n",
      "C:\\Users\\jalbertoferreira\\Anaconda3\\lib\\site-packages\\pyjstat\\pyjstat.py:250: FutureWarning: by argument to sort_index is deprecated, please use .sort_values(by=...)\n",
      "  dim_label = pd.merge(dim_label, dim_index, on='id').sort_index(by='index')\n",
      "C:\\Users\\jalbertoferreira\\Anaconda3\\lib\\site-packages\\pyjstat\\pyjstat.py:250: FutureWarning: by argument to sort_index is deprecated, please use .sort_values(by=...)\n",
      "  dim_label = pd.merge(dim_label, dim_index, on='id').sort_index(by='index')\n",
      "C:\\Users\\jalbertoferreira\\Anaconda3\\lib\\site-packages\\pyjstat\\pyjstat.py:250: FutureWarning: by argument to sort_index is deprecated, please use .sort_values(by=...)\n",
      "  dim_label = pd.merge(dim_label, dim_index, on='id').sort_index(by='index')\n"
     ]
    }
   ],
   "source": [
    "dataset = pyjstat.Dataset.read('http://ec.europa.eu/eurostat/wdds/rest/data/v2.1/json/en/ei_bssi_m_r2?indic=BS-ESI-I&groupedIndicators=1&filterNonGeo=1&precision=1&s_adj=SA')\n",
    "df = dataset.write('dataframe')"
   ]
  },
  {
   "cell_type": "code",
   "execution_count": 27,
   "metadata": {},
   "outputs": [
    {
     "name": "stdout",
     "output_type": "stream",
     "text": [
      "<class 'pandas.core.frame.DataFrame'>\n",
      "RangeIndex: 15708 entries, 0 to 15707\n",
      "Data columns (total 5 columns):\n",
      "indic    15708 non-null object\n",
      "s_adj    15708 non-null object\n",
      "geo      15708 non-null object\n",
      "time     15708 non-null object\n",
      "value    9213 non-null float64\n",
      "dtypes: float64(1), object(4)\n",
      "memory usage: 613.7+ KB\n"
     ]
    }
   ],
   "source": [
    "df.info()"
   ]
  },
  {
   "cell_type": "code",
   "execution_count": 30,
   "metadata": {},
   "outputs": [
    {
     "name": "stdout",
     "output_type": "stream",
     "text": [
      "0    False\n",
      "1    False\n",
      "2    False\n",
      "3    False\n",
      "4    False\n",
      "Name: geo, dtype: bool\n"
     ]
    }
   ],
   "source": [
    "#Create boolean variable to select countries of interest\n",
    "countries = ('Germany','Spain', 'France', 'United Kingdom')\n",
    "is_countries = df['geo']==countries \n",
    "print(is_countries.head())"
   ]
  },
  {
   "cell_type": "code",
   "execution_count": null,
   "metadata": {},
   "outputs": [],
   "source": []
  }
 ],
 "metadata": {
  "kernelspec": {
   "display_name": "Python 3",
   "language": "python",
   "name": "python3"
  },
  "language_info": {
   "codemirror_mode": {
    "name": "ipython",
    "version": 3
   },
   "file_extension": ".py",
   "mimetype": "text/x-python",
   "name": "python",
   "nbconvert_exporter": "python",
   "pygments_lexer": "ipython3",
   "version": "3.7.3"
  }
 },
 "nbformat": 4,
 "nbformat_minor": 2
}
